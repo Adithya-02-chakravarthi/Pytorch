{
 "cells": [
  {
   "cell_type": "code",
   "execution_count": 13,
   "id": "487c09ba-7b58-423e-a230-a94ef0679232",
   "metadata": {},
   "outputs": [
    {
     "name": "stdout",
     "output_type": "stream",
     "text": [
      "Path to dataset files: C:\\Users\\Adithya Chakravarthi\\.cache\\kagglehub\\datasets\\awsaf49\\brats2020-training-data\\versions\\3\n"
     ]
    }
   ],
   "source": [
    "import kagglehub\n",
    "path = kagglehub.dataset_download(\"awsaf49/brats2020-training-data\")\n",
    "print(\"Path to dataset files:\", path)"
   ]
  },
  {
   "cell_type": "code",
   "execution_count": 14,
   "id": "018e3973-d939-48bc-9ced-8266de771e22",
   "metadata": {},
   "outputs": [],
   "source": [
    "import torch\n",
    "import torch.nn as nn\n",
    "import matplotlib.pyplot as plt\n",
    "import os\n",
    "import nibabel as nib\n",
    "import torch.nn.functional as F\n",
    "import torchvision.transforms as transforms\n",
    "import numpy as np\n",
    "from torch.utils.data import DataLoader, Dataset"
   ]
  },
  {
   "cell_type": "code",
   "execution_count": 17,
   "id": "e4e885ec-1d7f-4d1c-92ba-53ad7ff901c3",
   "metadata": {},
   "outputs": [],
   "source": [
    "class UNet(nn.Module):\n",
    "    def __init__ (self):\n",
    "        super(UNet,self).__init__()\n",
    "        self.conv1 = nn.conv2d(4,64,kernel_size = 3,padding = 1)\n",
    "        self.conv2 = nn.conv2d(64,128,kernel_size = 3, padding =1)\n",
    "        self.pool = nn.MaxPool2d(2,2)\n",
    "        self.upconv = nn.ConvTranspose2d(128,64, kernal_size=2, stide = 2)\n",
    "        self.final = nn.Conv2d(64,1,kernal_size=1)\n",
    "\n",
    "    def forward(self,X):\n",
    "        X1 = F.relu(self.conv1(X))\n",
    "        X2 = self.pool(F.relu(self.conv2(x1)))\n",
    "        X3 = self.upconv(X2)\n",
    "        return torch.sigmoid(self.final(X3))"
   ]
  },
  {
   "cell_type": "code",
   "execution_count": null,
   "id": "5d69f994-fd3f-499d-abd2-2c72e8ff801b",
   "metadata": {},
   "outputs": [],
   "source": []
  }
 ],
 "metadata": {
  "kernelspec": {
   "display_name": "Python 3 (ipykernel)",
   "language": "python",
   "name": "python3"
  },
  "language_info": {
   "codemirror_mode": {
    "name": "ipython",
    "version": 3
   },
   "file_extension": ".py",
   "mimetype": "text/x-python",
   "name": "python",
   "nbconvert_exporter": "python",
   "pygments_lexer": "ipython3",
   "version": "3.12.7"
  }
 },
 "nbformat": 4,
 "nbformat_minor": 5
}
